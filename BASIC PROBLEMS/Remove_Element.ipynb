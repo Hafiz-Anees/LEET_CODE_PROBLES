{
 "cells": [
  {
   "cell_type": "markdown",
   "id": "7b8f05ad",
   "metadata": {},
   "source": [
    "### Problem Description\n",
    "\n",
    "Given an integer array `nums` and an integer `val`, remove **all occurrences** of `val` in `nums` **in-place**.  \n",
    "The order of the elements may be changed.  \n",
    "Then return the number of elements in `nums` which are **not equal to** `val`.\n",
    "\n",
    "---\n",
    "\n",
    "### Requirements\n",
    "\n",
    "Consider the number of elements in `nums` which are not equal to `val` be `k`.  \n",
    "To get accepted, you need to do the following things:\n",
    "\n",
    "- Change the array `nums` such that the **first `k` elements** of `nums` contain the elements which are **not equal to** `val`.\n",
    "- The remaining elements of `nums` are **not important**, as well as the size of `nums`.\n",
    "- Return `k`.\n",
    "\n",
    "---\n",
    "\n",
    "### Custom Judge\n",
    "\n",
    "The judge will test your solution with the following code:\n",
    "\n",
    "```java\n",
    "int[] nums = [...]; // Input array\n",
    "int val = ...; // Value to remove\n",
    "int[] expectedNums = [...]; // The expected answer with correct length.\n",
    "// It is sorted with no values equaling val.\n",
    "\n",
    "int k = removeElement(nums, val); // Calls your implementation\n",
    "\n",
    "assert k == expectedNums.length;\n",
    "sort(nums, 0, k); // Sort the first k elements of nums\n",
    "for (int i = 0; i < actualLength; i++) {\n",
    "    assert nums[i] == expectedNums[i];\n",
    "}\n",
    "\n",
    "Example 1\n",
    "\n",
    "Input: nums = [3,2,2,3], val = 3\n",
    "Output: 2, nums = [2,2,_,_]"
   ]
  },
  {
   "cell_type": "code",
   "execution_count": 3,
   "id": "43ae7553",
   "metadata": {},
   "outputs": [
    {
     "data": {
      "text/plain": [
       "2"
      ]
     },
     "execution_count": 3,
     "metadata": {},
     "output_type": "execute_result"
    }
   ],
   "source": [
    "class Solution:\n",
    "    def removeElement(self, nums: list[int], val: int) -> int:\n",
    "        k = 0  # Pointer for the next position of a valid element\n",
    "        for i in range(len(nums)):\n",
    "            if nums[i] != val:\n",
    "                nums[k] = nums[i]\n",
    "                k+=1\n",
    "        return k\n",
    "\n",
    "obj = Solution()\n",
    "\n",
    "obj.removeElement([3,2,2,3],3)"
   ]
  }
 ],
 "metadata": {
  "kernelspec": {
   "display_name": "Python 3",
   "language": "python",
   "name": "python3"
  },
  "language_info": {
   "codemirror_mode": {
    "name": "ipython",
    "version": 3
   },
   "file_extension": ".py",
   "mimetype": "text/x-python",
   "name": "python",
   "nbconvert_exporter": "python",
   "pygments_lexer": "ipython3",
   "version": "3.12.1"
  }
 },
 "nbformat": 4,
 "nbformat_minor": 5
}

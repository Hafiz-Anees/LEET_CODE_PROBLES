{
 "cells": [
  {
   "cell_type": "markdown",
   "metadata": {},
   "source": [
    "# Two Sum Problem\n",
    "\n",
    "Given an array of integers `nums` and an integer `target`, return **indices of the two numbers** such that they add up to the target. You may assume that each input would have exactly one solution, and you may not use the same element twice. You can return the answer in any order.\n",
    "\n",
    "### Example 1:\n",
    "- Input: `nums = [2, 7, 11, 15]`, `target = 9`\n",
    "- Output: `[0, 1]`\n",
    "- Explanation: Because `nums[0] + nums[1] == 9`, we return `[0, 1]`.\n",
    "\n",
    "### Example 2:\n",
    "- Input: `nums = [3, 2, 4]`, `target = 6`\n",
    "- Output: `[1, 2]`\n",
    "\n",
    "### Example 3:\n",
    "- Input: `nums = [3, 3]`, `target = 6`\n",
    "- Output: `[0, 1]`\n",
    "\n",
    "### Constraints:\n",
    "- `2 <= nums.length <= 10^4`\n",
    "- `-10^9 <= nums[i] <= 10^9`\n",
    "- `-10^9 <= target <= 10^9`\n",
    "- Only one valid answer exists.\n",
    "\n",
    "### Follow-up:\n",
    "Can you come up with an algorithm that has a time complexity better than O(n^2)?\n"
   ]
  },
  {
   "cell_type": "code",
   "execution_count": 16,
   "metadata": {},
   "outputs": [
    {
     "name": "stdout",
     "output_type": "stream",
     "text": [
      "0 2\n"
     ]
    }
   ],
   "source": [
    "nums = [3,2,3]\n",
    "target = 6\n",
    "for i in range(len(nums)-1):\n",
    "    for j in range(i+1,len(nums)):\n",
    "        if nums[i] + nums[j] == target:\n",
    "            print(i,j)"
   ]
  },
  {
   "cell_type": "code",
   "execution_count": null,
   "metadata": {},
   "outputs": [
    {
     "name": "stdout",
     "output_type": "stream",
     "text": [
      "True\n",
      "False\n",
      "False\n"
     ]
    }
   ],
   "source": [
    "def isPalindrome(x: int) -> bool:\n",
    "\n",
    "    if x < 0: \n",
    "        return False\n",
    "    \n",
    "    s = ''\n",
    "    n = x\n",
    "    while n != 0:\n",
    "        s = s + str(n % 10)  \n",
    "        n //= 10 \n",
    "    \n",
    "    return int(s) == x  \n",
    "\n",
    "print(isPalindrome(121))  # Output: True\n",
    "print(isPalindrome(-121))  # Output: False\n",
    "print(isPalindrome(10))  # Output: False\n",
    "\n"
   ]
  },
  {
   "cell_type": "code",
   "execution_count": null,
   "metadata": {},
   "outputs": [],
   "source": []
  }
 ],
 "metadata": {
  "kernelspec": {
   "display_name": "Python 3",
   "language": "python",
   "name": "python3"
  },
  "language_info": {
   "codemirror_mode": {
    "name": "ipython",
    "version": 3
   },
   "file_extension": ".py",
   "mimetype": "text/x-python",
   "name": "python",
   "nbconvert_exporter": "python",
   "pygments_lexer": "ipython3",
   "version": "3.12.1"
  }
 },
 "nbformat": 4,
 "nbformat_minor": 2
}

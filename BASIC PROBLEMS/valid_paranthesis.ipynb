{
 "cells": [
  {
   "cell_type": "markdown",
   "metadata": {},
   "source": [
    "# Valid Parentheses\n",
    "\n",
    "Given a string `s` containing just the characters `'('`, `')'`, `'{', '}'`, `'['`, and `']'`, determine if the input string is valid.\n",
    "\n",
    "## Conditions for a Valid String:\n",
    "- Open brackets must be closed by the **same type of brackets**.\n",
    "- Open brackets must be closed in the **correct order**.\n",
    "- Every close bracket must have a corresponding **open bracket of the same type**.\n",
    "\n",
    "## Examples\n",
    "\n",
    "**Example 1:**  \n",
    "**Input:** `s = \"()\"`  \n",
    "**Output:** `true`  \n",
    "\n",
    "**Example 2:**  \n",
    "**Input:** `s = \"()[]{}\"`  \n",
    "**Output:** `true`  \n",
    "\n",
    "**Example 3:**  \n",
    "**Input:** `s = \"(]\"`  \n",
    "**Output:** `false`  \n",
    "\n",
    "**Example 4:**  \n",
    "**Input:** `s = \"([])\"`  \n",
    "**Output:** `true`  \n",
    "\n",
    "## Constraints:\n",
    "- `1 <= s.length <= 10^4`\n",
    "- `s` consists of **only** the characters `'()[]{}'`.\n"
   ]
  },
  {
   "cell_type": "code",
   "execution_count": null,
   "metadata": {},
   "outputs": [
    {
     "name": "stdout",
     "output_type": "stream",
     "text": [
      "True\n",
      "True\n",
      "False\n",
      "True\n",
      "False\n"
     ]
    }
   ],
   "source": [
    "def isValid(s):\n",
    "    stack = []\n",
    "    brackets = {')': '(', ']': '[', '}': '{'}\n",
    "    for p in s:\n",
    "        if p in brackets: \n",
    "            if not stack or stack.pop() != brackets[p]:\n",
    "                return False  \n",
    "        else:\n",
    "            stack.append(p)\n",
    "    return not stack \n",
    "\n",
    "print(isValid(\"()\"))        \n",
    "print(isValid(\"()[]{}\"))    \n",
    "print(isValid(\"(]\"))        \n",
    "print(isValid(\"([])\"))       \n",
    "print(isValid(\"(){}}{\"))    \n"
   ]
  },
  {
   "cell_type": "code",
   "execution_count": 33,
   "metadata": {},
   "outputs": [],
   "source": [
    "stack = []\n",
    "stack.append('(')\n",
    "stack.append(')')\n",
    "stack.append('[')\n",
    "if not stack:\n",
    "    print(\"Stack is empty\")"
   ]
  },
  {
   "cell_type": "code",
   "execution_count": null,
   "metadata": {},
   "outputs": [],
   "source": []
  }
 ],
 "metadata": {
  "kernelspec": {
   "display_name": "Python 3",
   "language": "python",
   "name": "python3"
  },
  "language_info": {
   "codemirror_mode": {
    "name": "ipython",
    "version": 3
   },
   "file_extension": ".py",
   "mimetype": "text/x-python",
   "name": "python",
   "nbconvert_exporter": "python",
   "pygments_lexer": "ipython3",
   "version": "3.12.1"
  }
 },
 "nbformat": 4,
 "nbformat_minor": 2
}
